{
 "cells": [
  {
   "cell_type": "code",
   "execution_count": 22,
   "metadata": {
    "id": "l82JFshRl0J8"
   },
   "outputs": [],
   "source": [
    "import numpy as np\n",
    "from matplotlib import pyplot as plt\n",
    "from scipy.optimize import minimize\n",
    "from numba import jit, njit\n",
    "from scipy.stats import  t"
   ]
  },
  {
   "cell_type": "code",
   "execution_count": 3,
   "metadata": {
    "id": "9i0pEU8Ql0J_"
   },
   "outputs": [
    {
     "ename": "NameError",
     "evalue": "name 'njit' is not defined",
     "output_type": "error",
     "traceback": [
      "\u001b[1;31m---------------------------------------------------------------------------\u001b[0m",
      "\u001b[1;31mNameError\u001b[0m                                 Traceback (most recent call last)",
      "Cell \u001b[1;32mIn[3], line 1\u001b[0m\n\u001b[1;32m----> 1\u001b[0m \u001b[38;5;28;43;01mclass\u001b[39;49;00m\u001b[43m \u001b[49m\u001b[38;5;21;43;01mStochasticProcess\u001b[39;49;00m\u001b[43m:\u001b[49m\n\u001b[0;32m      2\u001b[0m \u001b[43m    \u001b[49m\u001b[38;5;28;43;01mdef\u001b[39;49;00m\u001b[43m \u001b[49m\u001b[38;5;21;43m__init__\u001b[39;49m\u001b[43m(\u001b[49m\u001b[38;5;28;43mself\u001b[39;49m\u001b[43m,\u001b[49m\u001b[43m \u001b[49m\u001b[43mparams\u001b[49m\u001b[43m,\u001b[49m\u001b[43m \u001b[49m\u001b[43mT\u001b[49m\u001b[43m,\u001b[49m\u001b[43m \u001b[49m\u001b[43mNx\u001b[49m\u001b[43m,\u001b[49m\u001b[43m \u001b[49m\u001b[43mNt\u001b[49m\u001b[43m,\u001b[49m\u001b[43m \u001b[49m\u001b[43minit_state\u001b[49m\u001b[43m \u001b[49m\u001b[38;5;241;43m=\u001b[39;49m\u001b[43m \u001b[49m\u001b[38;5;28;43;01mNone\u001b[39;49;00m\u001b[43m)\u001b[49m\u001b[43m:\u001b[49m\n\u001b[0;32m      3\u001b[0m \u001b[43m        \u001b[49m\u001b[38;5;28;43mself\u001b[39;49m\u001b[38;5;241;43m.\u001b[39;49m\u001b[43mparams\u001b[49m\u001b[43m \u001b[49m\u001b[38;5;241;43m=\u001b[39;49m\u001b[43m \u001b[49m\u001b[43mparams\u001b[49m\n",
      "Cell \u001b[1;32mIn[3], line 12\u001b[0m, in \u001b[0;36mStochasticProcess\u001b[1;34m()\u001b[0m\n\u001b[0;32m      7\u001b[0m     \u001b[38;5;28mself\u001b[39m\u001b[38;5;241m.\u001b[39minit_state \u001b[38;5;241m=\u001b[39m init_state\n\u001b[0;32m      9\u001b[0m \u001b[38;5;66;03m# Wiener Process by default\u001b[39;00m\n\u001b[0;32m     10\u001b[0m \u001b[38;5;66;03m# use @staticmethod for numba compatibility with @njit\u001b[39;00m\n\u001b[0;32m     11\u001b[0m \u001b[38;5;129m@staticmethod\u001b[39m\n\u001b[1;32m---> 12\u001b[0m \u001b[38;5;129m@njit\u001b[39m\n\u001b[0;32m     13\u001b[0m \u001b[38;5;28;01mdef\u001b[39;00m \u001b[38;5;21mbxt\u001b[39m(x, t, params):\n\u001b[0;32m     14\u001b[0m     \u001b[38;5;28;01mreturn\u001b[39;00m \u001b[38;5;241m0\u001b[39m\n\u001b[0;32m     16\u001b[0m \u001b[38;5;129m@staticmethod\u001b[39m\n\u001b[0;32m     17\u001b[0m \u001b[38;5;129m@njit\u001b[39m\n\u001b[0;32m     18\u001b[0m \u001b[38;5;28;01mdef\u001b[39;00m \u001b[38;5;21msigmaxt\u001b[39m(x, t, params):\n",
      "\u001b[1;31mNameError\u001b[0m: name 'njit' is not defined"
     ]
    }
   ],
   "source": [
    "class StochasticProcess:\n",
    "    def __init__(self, params, T, Nx, Nt, init_state = None):\n",
    "        self.params = params\n",
    "        self.T = T\n",
    "        self.Nx = Nx # Number of trajectories\n",
    "        self.Nt = Nt # Number of discretization steps\n",
    "        self.init_state = init_state\n",
    "\n",
    "    # Wiener Process by default\n",
    "    # use @staticmethod for numba compatibility with @njit\n",
    "    @staticmethod\n",
    "    @njit\n",
    "    def bxt(x, t, params):\n",
    "        return 0\n",
    "\n",
    "    @staticmethod\n",
    "    @njit\n",
    "    def sigmaxt(x, t, params):\n",
    "        return 1\n",
    "\n",
    "    @staticmethod\n",
    "    @njit\n",
    "    def bxt_x(x, t, params):\n",
    "        return 0\n",
    "\n",
    "    @staticmethod\n",
    "    @njit\n",
    "    def bxt_xx(x, t, params):\n",
    "        return 0\n",
    "\n",
    "    @staticmethod\n",
    "    @njit\n",
    "    def sigmaxt_x(x, t, params):\n",
    "        return 0\n",
    "\n",
    "    @staticmethod\n",
    "    @njit\n",
    "    def sigmaxt_xx(x, t, params):\n",
    "        return 0\n",
    "\n",
    "    @staticmethod\n",
    "    @njit\n",
    "    def bxt_t(x, t, params):\n",
    "        return 0\n",
    "\n",
    "    def DefaultInitState(self):\n",
    "        return np.zeros(self.Nx)\n",
    "\n",
    "    def EulerSolution(self, dwt = None):\n",
    "        dt = self.T / self.Nt\n",
    "        t_data = np.linspace(0, self.T, self.Nt + 1)\n",
    "        x_data = np.zeros((self.Nt + 1, self.Nx))\n",
    "\n",
    "        if dwt is None:\n",
    "            dwt = np.random.normal(0, 1, size = (self.Nt, self.Nx)) * np.sqrt(dt)\n",
    "\n",
    "        if self.init_state is None:\n",
    "            x_data[0] = self.DefaultInitState()\n",
    "        else:\n",
    "            x_data[0] = self.init_state\n",
    "\n",
    "        for i in range(1, self.Nt + 1):\n",
    "            x_data[i] = x_data[i - 1] + self.bxt(x_data[i - 1], t_data[i - 1], self.params) * dt +\\\n",
    "                        self.sigmaxt(x_data[i - 1], t_data[i - 1], self.params) * dwt[i - 1]\n",
    "        return t_data, x_data\n",
    "\n",
    "    @staticmethod\n",
    "    @njit\n",
    "    def EulerDensity(x, t, x0, t0, params, bxt, bxt_x, bxt_xx, sigmaxt, sigmaxt_x, sigmaxt_xx, bxt_t):\n",
    "        xs = x0 + bxt(x0, t0, params) * (t - t0)\n",
    "        sigma2 = sigmaxt(x0, t0, params)**2 * (t - t0)\n",
    "\n",
    "        return -1/2 * np.log(2 * np.pi * sigma2) - (x - xs)**2 / (2 * sigma2)\n",
    "\n",
    "    @staticmethod\n",
    "    @njit\n",
    "    def OzakiDensity(x, t, x0, t0, params, bxt, bxt_x, bxt_xx, sigmaxt, sigmaxt_x, sigmaxt_xx, bxt_t):\n",
    "        K = 1 / (t - t0) * np.log(1 + bxt(x0, t0, params) / (x0 * bxt_x(x0, t0, params)) * (np.exp(bxt_x(x0, t0, params) * (t - t0)) - 1))\n",
    "        E = x0 + bxt(x0, t0, params) / bxt_x(x0, t0, params) * (np.exp(bxt_x(x0, t0, params) * (t - t0)) - 1)\n",
    "        V = sigmaxt(x0, t0, params)**2 / (2 * K) * (np.exp(2 * K * (t - t0)) - 1)\n",
    "\n",
    "        xs = E\n",
    "        sigma2 = V\n",
    "\n",
    "        return -1/2 * np.log(2 * np.pi * sigma2) - (x - xs)**2 / (2 * sigma2)\n",
    "\n",
    "    @staticmethod\n",
    "    @njit\n",
    "    def ShojiOzakiDensity(x, t, x0, t0, params, bxt, bxt_x, bxt_xx, sigmaxt, sigmaxt_x, sigmaxt_xx, bxt_t):\n",
    "        L = bxt_x(x0, t0, params)\n",
    "\n",
    "        #safe division\n",
    "        if L == 0:\n",
    "            L = L + 0.001\n",
    "\n",
    "        M = sigmaxt(x0, t0, params)**2 / 2 * bxt_xx(x0, t0, params) + bxt_t(x0, t0, params)\n",
    "\n",
    "        A = 1 + bxt(x0, t0, params) / (x0 * L) * (np.exp(L * (t - t0)) - 1) + M / (x0 * L**2) * \\\n",
    "            (np.exp(L * (t - t0)) - 1 - L * (t - t0))\n",
    "        B = sigmaxt(x0, t0, params)**2 * 1/(2 * L) * (np.exp(2 * L * (t - t0)) - 1)\n",
    "\n",
    "        xs = A * x0\n",
    "        sigma2 = B\n",
    "\n",
    "        return -1/2 * np.log(2 * np.pi * sigma2) - (x - xs)**2 / (2 * sigma2)\n",
    "\n",
    "    @staticmethod\n",
    "    @njit\n",
    "    def KesslerDensity(x, t, x0, t0, params, bxt, bxt_x, bxt_xx, sigmaxt, sigmaxt_x, sigmaxt_xx, bxt_t):\n",
    "        E = x0 + bxt(x0, t0, params) * (t - t0) + (bxt(x0, t0, params) * bxt_x(x0, t0, params) + 1/2 * \\\n",
    "            sigmaxt(x0, t0, params)**2 * bxt_xx(x0, t0, params)) * 1/2 * (t - t0)**2\n",
    "        V = x0**2 + (2 * bxt(x0, t0, params) * x0 + sigmaxt(x0, t0, params)**2 ) * (t - t0)\\\n",
    "            + (2 * bxt(x0, t0, params) * (bxt_x(x0, t0, params) * x0 + bxt(x0, t0, params) + \\\n",
    "                sigmaxt(x0, t0, params) * sigmaxt_x(x0, t0, params))\\\n",
    "            + sigmaxt(x0, t0, params)**2 * (bxt_xx(x0, t0, params) * x0 + 2 * bxt_x(x0, t0, params) +\\\n",
    "                sigmaxt_x(x0, t0, params)**2 + sigmaxt(x0, t0, params) * sigmaxt_xx(x0, t0, params))) * (t - t0)**2 / 2 - E**2\n",
    "\n",
    "        xs = E\n",
    "\n",
    "        #safe division\n",
    "        if V == 0:\n",
    "            V = V + 0.001\n",
    "\n",
    "        sigma2 = V\n",
    "\n",
    "        return -1/2 * np.log(2 * np.pi * sigma2) - (x - xs)**2 / (2 * sigma2)\n",
    "\n",
    "    @staticmethod\n",
    "    @njit\n",
    "    def MLogLik(params, t_data, x_data, density, bxt, bxt_x, bxt_xx, sigmaxt, sigmaxt_x, sigmaxt_xx, bxt_t):\n",
    "        Nt = len(x_data)\n",
    "        Nx = len(x_data[0])\n",
    "        log_data = np.zeros(Nx)\n",
    "        for k in range(0, Nx):\n",
    "            m_log_lik = 0\n",
    "            for j in range(1, Nt):\n",
    "                m_log_lik += density(x_data[j][k], t_data[j], x_data[j - 1][k], t_data[j - 1], params,\n",
    "                                     bxt, bxt_x, bxt_xx, sigmaxt, sigmaxt_x, sigmaxt_xx, bxt_t)\n",
    "            log_data[k] = m_log_lik\n",
    "\n",
    "        res = -np.mean(log_data)\n",
    "        return res\n",
    "\n",
    "    def EulerEstimation(self, t_data, x_data):\n",
    "        x0 = np.ones(len(self.params))\n",
    "        accuracy = 1e-8\n",
    "\n",
    "        min_result = minimize(self.MLogLik,\n",
    "                              x0 = x0,\n",
    "                              args=(t_data, x_data, self.EulerDensity,\n",
    "                              self.bxt, self.bxt_x, self.bxt_xx, self.sigmaxt, self.sigmaxt_x, self.sigmaxt_xx,\n",
    "                              self.bxt_t),\n",
    "                              method = 'L-BFGS-B',\n",
    "                              options={'ftol': accuracy, 'eps': accuracy})\n",
    "        return min_result\n",
    "\n",
    "    def OzakiEstimation(self, t_data, x_data):\n",
    "        x0 = np.ones(len(self.params))\n",
    "        accuracy = 1e-8\n",
    "\n",
    "        min_result = minimize(self.MLogLik,\n",
    "                              x0 = x0,\n",
    "                              args=(t_data, x_data, self.OzakiDensity,\n",
    "                              self.bxt, self.bxt_x, self.bxt_xx, self.sigmaxt, self.sigmaxt_x, self.sigmaxt_xx,\n",
    "                              self.bxt_t),\n",
    "                              method = 'L-BFGS-B',\n",
    "                              options={'ftol': accuracy, 'eps': accuracy})\n",
    "        return min_result\n",
    "\n",
    "    def ShojiOzakiEstimation(self, t_data, x_data):\n",
    "        x0 = np.ones(len(self.params))\n",
    "        accuracy = 1e-8\n",
    "\n",
    "        min_result = minimize(self.MLogLik,\n",
    "                              x0 = x0,\n",
    "                              args=(t_data, x_data, self.ShojiOzakiDensity,\n",
    "                              self.bxt, self.bxt_x, self.bxt_xx, self.sigmaxt, self.sigmaxt_x, self.sigmaxt_xx,\n",
    "                              self.bxt_t),\n",
    "                              method = 'L-BFGS-B',\n",
    "                              options={'ftol': accuracy, 'eps': accuracy})\n",
    "        return min_result\n",
    "\n",
    "    def KesslerEstimation(self, t_data, x_data):\n",
    "        x0 = np.ones(len(self.params))\n",
    "        accuracy = 1e-8\n",
    "\n",
    "        min_result = minimize(self.MLogLik,\n",
    "                              x0 = x0,\n",
    "                              args=(t_data, x_data, self.KesslerDensity,\n",
    "                              self.bxt, self.bxt_x, self.bxt_xx, self.sigmaxt, self.sigmaxt_x, self.sigmaxt_xx,\n",
    "                              self.bxt_t),\n",
    "                              method = 'L-BFGS-B',\n",
    "                              options={'ftol': accuracy, 'eps': accuracy})\n",
    "        return min_result\n",
    "\n",
    "\n",
    "class OUprocess(StochasticProcess):\n",
    "    def __init__(self, params, T, Nx, Nt, init_state = None):\n",
    "        super().__init__(params, T, Nx, Nt, init_state)\n",
    "\n",
    "    # params = [theta, mu, sigma]\n",
    "\n",
    "    @staticmethod\n",
    "    @njit\n",
    "    def bxt(x, t, params):\n",
    "        return params[0] * (params[1] - x)\n",
    "\n",
    "    @staticmethod\n",
    "    @njit\n",
    "    def sigmaxt(x, t, params):\n",
    "        return params[2]\n",
    "\n",
    "    @staticmethod\n",
    "    @njit\n",
    "    def bxt_x(x, t, params):\n",
    "        return -params[0]\n",
    "\n",
    "    def DefaultInitState(self):\n",
    "        return self.params[1] * np.ones(self.Nx)\n",
    "\n",
    "class CKLSprocess(StochasticProcess):\n",
    "    def __init__(self, params, T, Nx, Nt, init_state = None):\n",
    "        super().__init__(params, T, Nx, Nt, init_state)\n",
    "\n",
    "    # params = [theta1, theta2, theta3]\n",
    "    @staticmethod\n",
    "    @njit\n",
    "    def bxt(x, t, params):\n",
    "        return params[0] + params[1] * x\n",
    "\n",
    "    @staticmethod\n",
    "    @njit\n",
    "    def sigmaxt(x, t, params):\n",
    "        return params[2] * x**params[3]\n",
    "\n",
    "    @staticmethod\n",
    "    @njit\n",
    "    def bxt_x(x, t, params):\n",
    "        return params[1]\n",
    "\n",
    "    @staticmethod\n",
    "    @njit\n",
    "    def sigmaxt_x(x, t, params):\n",
    "        return params[2] * params[3] * x**(params[3] - 1)\n",
    "\n",
    "    @staticmethod\n",
    "    @njit\n",
    "    def sigmaxt_xx(x, t, params):\n",
    "        return params[2] * params[3] * (params[3] - 1) * x**(params[3] - 2)\n",
    "\n",
    "    def DefaultInitState(self):\n",
    "        return self.params[0] / self.params[1] * np.ones(self.Nx)\n",
    "\n",
    "class Task5process(StochasticProcess):\n",
    "    def __init__(self, params, T, Nx, Nt, init_state = None):\n",
    "        super().__init__(params, T, Nx, Nt, init_state)\n",
    "\n",
    "    # params = [theta1, theta2]\n",
    "    @staticmethod\n",
    "    @njit\n",
    "    def bxt(x, t, params):\n",
    "        return params[0] * t * x\n",
    "\n",
    "    @staticmethod\n",
    "    @njit\n",
    "    def sigmaxt(x, t, params):\n",
    "        return params[1] * x\n",
    "\n",
    "    @staticmethod\n",
    "    @njit\n",
    "    def bxt_x(x, t, params):\n",
    "        return params[0] * t\n",
    "\n",
    "    @staticmethod\n",
    "    @njit\n",
    "    def sigmaxt_x(x, t, params):\n",
    "        return params[1]\n",
    "\n",
    "    @staticmethod\n",
    "    @njit\n",
    "    def bxt_t(x, t, params):\n",
    "        return params[0] * x\n",
    "\n",
    "    def DefaultInitState(self):\n",
    "        return self.params[0] / self.params[1] * np.ones(self.Nx)\n",
    "\n",
    "class HullWhiteprocess(StochasticProcess):\n",
    "    def __init__(self, params, T, Nx, Nt, init_state = None):\n",
    "        super().__init__(params, T, Nx, Nt, init_state)\n",
    "\n",
    "    # params = [theta1, theta2, theta3]\n",
    "    @staticmethod\n",
    "    @njit\n",
    "    def bxt(x, t, params):\n",
    "        return params[0] * t * (params[1] * np.sqrt(t) - x)\n",
    "\n",
    "    @staticmethod\n",
    "    @njit\n",
    "    def sigmaxt(x, t, params):\n",
    "        return params[2] * t\n",
    "\n",
    "    @staticmethod\n",
    "    @njit\n",
    "    def bxt_x(x, t, params):\n",
    "        return -params[0] * t\n",
    "\n",
    "    @staticmethod\n",
    "    @njit\n",
    "    def bxt_t(x, t, params):\n",
    "        return params[0] * params[1] * 3/2 * np.sqrt(t)\n",
    "\n",
    "    def DefaultInitState(self):\n",
    "        return self.params[1] * np.ones(self.Nx)"
   ]
  },
  {
   "cell_type": "markdown",
   "metadata": {
    "id": "7ZI2_4Tzl0KA"
   },
   "source": [
    "Task 1. Evaluate the conditional density of the Ornstein-Uhlenbeck process\n",
    "$$dX_t = (3-X_t)dt+2dW_t, \\quad X_0=1, \\quad %\\theta=(1, 3, 2), \\quad\n",
    "N=100000,\n",
    "\\quad \\Delta=1$$ and calculate the\n",
    "maximum likelihood estimation.  "
   ]
  },
  {
   "cell_type": "code",
   "execution_count": 24,
   "metadata": {
    "id": "VR1fEqA9l0KB"
   },
   "outputs": [],
   "source": [
    "Nx = 100000\n",
    "Nt = 300\n",
    "\n",
    "T = 1\n",
    "\n",
    "params_OU = np.array([3, 1, 2])\n",
    "\n",
    "x0 = 1\n",
    "init_state = x0 * np.ones(Nx)\n",
    "\n",
    "OUp = OUprocess(params_OU, T, Nx, Nt, init_state)\n",
    "\n",
    "t_data, x_data_OU = OUp.EulerSolution()"
   ]
  },
  {
   "cell_type": "code",
   "execution_count": 25,
   "metadata": {
    "colab": {
     "base_uri": "https://localhost:8080/"
    },
    "id": "IQF701lNl0KB",
    "outputId": "7210dcfb-addf-42bc-c34f-b687247c305d"
   },
   "outputs": [
    {
     "data": {
      "text/plain": [
       "  message: CONVERGENCE: REL_REDUCTION_OF_F_<=_FACTR*EPSMCH\n",
       "  success: True\n",
       "   status: 0\n",
       "      fun: -221.88647317667946\n",
       "        x: [ 3.011e+00  9.977e-01  2.000e+00]\n",
       "      nit: 17\n",
       "      jac: [-9.095e-05  1.131e-03  1.154e-03]\n",
       "     nfev: 76\n",
       "     njev: 19\n",
       " hess_inv: <3x3 LbfgsInvHessProduct with dtype=float64>"
      ]
     },
     "execution_count": 25,
     "metadata": {},
     "output_type": "execute_result"
    }
   ],
   "source": [
    "OUp.EulerEstimation(t_data, x_data_OU)"
   ]
  },
  {
   "cell_type": "code",
   "execution_count": 11,
   "metadata": {
    "colab": {
     "base_uri": "https://localhost:8080/"
    },
    "id": "YAxgB8Y6k7MC",
    "outputId": "cc53f0c1-6485-4df6-cbbf-42eb8153ae40"
   },
   "outputs": [
    {
     "data": {
      "text/plain": [
       "  message: CONVERGENCE: REL_REDUCTION_OF_F_<=_FACTR*EPSMCH\n",
       "  success: True\n",
       "   status: 0\n",
       "      fun: -221.95906136888541\n",
       "        x: [ 3.024e+00  1.002e+00  2.010e+00]\n",
       "      nit: 15\n",
       "      jac: [-1.421e-04  3.013e-04  7.219e-04]\n",
       "     nfev: 68\n",
       "     njev: 17\n",
       " hess_inv: <3x3 LbfgsInvHessProduct with dtype=float64>"
      ]
     },
     "execution_count": 11,
     "metadata": {},
     "output_type": "execute_result"
    }
   ],
   "source": [
    "OUp.ShojiOzakiEstimation(t_data, x_data_OU)"
   ]
  },
  {
   "cell_type": "code",
   "execution_count": 21,
   "metadata": {
    "colab": {
     "base_uri": "https://localhost:8080/"
    },
    "id": "Ywod-4uYoHJP",
    "outputId": "b325eb64-3c53-4a36-ecb7-786040bbebb9"
   },
   "outputs": [
    {
     "data": {
      "text/plain": [
       "  message: ABNORMAL_TERMINATION_IN_LNSRCH\n",
       "  success: False\n",
       "   status: 2\n",
       "      fun: nan\n",
       "        x: [ 1.000e+00  1.000e+00  1.000e+00]\n",
       "      nit: 0\n",
       "      jac: [       nan        nan        nan]\n",
       "     nfev: 84\n",
       "     njev: 21\n",
       " hess_inv: <3x3 LbfgsInvHessProduct with dtype=float64>"
      ]
     },
     "execution_count": 21,
     "metadata": {},
     "output_type": "execute_result"
    }
   ],
   "source": [
    "OUp.KesslerEstimation(t_data, x_data_OU)"
   ]
  },
  {
   "cell_type": "markdown",
   "metadata": {
    "id": "vTtFMxh2opn9"
   },
   "source": [
    "Task. Find the maximum likelihood estimators  numerically\n",
    " for Ornstein-Uhlenbeck process\n",
    " $$\n",
    " dX_t = -\\theta_2X_tdt + \\theta_3dW_t, \\quad \\theta=(0, 3, 2), \\quad\n",
    "N=1000, \\quad \\Delta=1\n",
    "$$\n",
    "and compare with explicit estimations\n",
    "\n",
    "$$\n",
    "\\hat{\\theta}_{2,n} = -\\frac{1}{\\Delta}\\log \\left(\\frac{\\sum_{i=1}^n X_{i-1}X_i} {\\sum_{i=1}^n X^2_{i-1}}\\right),\n",
    "$$\n",
    "$$\n",
    "\\hat{\\theta}_{3,n} = \\sqrt{\\frac{2\\hat{\\theta}_{2,n}}\n",
    "{n(1 - e^{-2\\Delta  \\hat{\\theta}_{2,n}})}\n",
    "\\sum_{i=1}^n (X_i- X_{i-1} e^{-\\Delta \\hat{\\theta}_{2, n}})^2}.\n",
    "$$"
   ]
  },
  {
   "cell_type": "code",
   "execution_count": 1,
   "metadata": {
    "id": "pEX9Bo4ArRS9"
   },
   "outputs": [
    {
     "name": "stdout",
     "output_type": "stream",
     "text": [
      "оценки, найденные численно методом максимального правдоподобия:\n",
      "theta_2 (м.в.о.) = 3.1455860432124494\n",
      "theta_3 (м.в.о.) = 2.0047684295588057\n",
      "\n",
      "явные оценки:\n",
      "theta_2 (явная) = 3.1453822530466207\n",
      "theta_3 (явная) = 2.003695539169668\n"
     ]
    }
   ],
   "source": [
    "import numpy as np\n",
    "from scipy.optimize import minimize\n",
    "from scipy.stats import norm\n",
    "\n",
    "# параметры для процесса Орнштейна-Уленбека\n",
    "theta_true = (0, 3, 2)  # истинные значения параметров theta_0, theta_2, theta_3\n",
    "theta_2_true, theta_3_true = theta_true[1], theta_true[2]  # извлекаем значения theta_2 и theta_3\n",
    "N = 1000  # количество наблюдений\n",
    "delta = 1  # временной шаг\n",
    "\n",
    "# шаг 1: генерируем траекторию процесса орнштейна-уленбека\n",
    "np.random.seed(42)\n",
    "X = np.zeros(N)  # создаем массив для хранения значений процесса\n",
    "for i in range(1, N):\n",
    "    # вычисляем значение процесса на следующем шаге на основе предыдущего значения\n",
    "    # используя формулу для процесса орнштейна-уленбека\n",
    "    X[i] = (X[i-1] * np.exp(-theta_2_true * delta) + \n",
    "            theta_3_true * np.sqrt((1 - np.exp(-2 * theta_2_true * delta)) / (2 * theta_2_true)) \n",
    "            * np.random.normal())\n",
    "\n",
    "# шаг 2: определяем функцию логарифмического правдоподобия\n",
    "def log_likelihood(params, X, delta):\n",
    "    theta_2, theta_3 = params  # извлекаем параметры из списка params\n",
    "    n = len(X) - 1  # количество наблюдений минус один\n",
    "    ll = 0  # начальное значение логарифма правдоподобия\n",
    "    for i in range(1, len(X)):\n",
    "        # среднее значение для условного распределения X[i] при заданном X[i-1]\n",
    "        mean = X[i-1] * np.exp(-theta_2 * delta)\n",
    "        # дисперсия для условного распределения X[i] при заданном X[i-1]\n",
    "        var = theta_3**2 * (1 - np.exp(-2 * theta_2 * delta)) / (2 * theta_2)\n",
    "        # добавляем логарифм плотности вероятности нормального распределения к ll\n",
    "        ll += norm.logpdf(X[i], mean, np.sqrt(var))\n",
    "    return -ll  # возвращаем отрицательное значение для минимизации\n",
    "\n",
    "# начальные предположения для theta_2 и theta_3\n",
    "initial_guess = [1.0, 1.0]\n",
    "\n",
    "# находим оценки методом максимального правдоподобия путем минимизации отрицательного логарифма правдоподобия\n",
    "result = minimize(log_likelihood, initial_guess, args=(X, delta), bounds=[(0.01, 10), (0.01, 10)])\n",
    "theta_2_mle, theta_3_mle = result.x  # извлекаем найденные значения theta_2 и theta_3\n",
    "\n",
    "# шаг 3: вычисляем явные оценки для theta_2 и theta_3 по заданным формулам\n",
    "# сумма произведений соседних значений X[i-1] * X[i]\n",
    "sum_Xi_Xim1 = np.sum(X[:-1] * X[1:])\n",
    "# сумма квадратов предыдущих значений X[i-1]^2\n",
    "sum_Xim1_sq = np.sum(X[:-1]**2)\n",
    "\n",
    "# явная оценка для theta_2\n",
    "theta_2_explicit = -1 / delta * np.log(sum_Xi_Xim1 / sum_Xim1_sq)\n",
    "\n",
    "# явная оценка для theta_3\n",
    "theta_3_explicit = np.sqrt((2 * theta_2_explicit / (N * (1 - np.exp(-2 * delta * theta_2_explicit)))) * \n",
    "                           np.sum((X[1:] - X[:-1] * np.exp(-delta * theta_2_explicit))**2))\n",
    "\n",
    "# шаг 4: выводим результаты и сравниваем оценки\n",
    "print(\"оценки, найденные численно методом максимального правдоподобия:\")\n",
    "print(f\"theta_2 (м.в.о.) = {theta_2_mle}\")\n",
    "print(f\"theta_3 (м.в.о.) = {theta_3_mle}\")\n",
    "\n",
    "print(\"\\nявные оценки:\")\n",
    "print(f\"theta_2 (явная) = {theta_2_explicit}\")\n",
    "print(f\"theta_3 (явная) = {theta_3_explicit}\")"
   ]
  },
  {
   "cell_type": "markdown",
   "metadata": {
    "id": "YpdCzJFkl0KD"
   },
   "source": [
    "Task 3. Consider  the Chan-Karolyi-Longstaff-Sanders (CKLS) model\n",
    "$$\n",
    " dX_{t} = (\\theta_{1}+\\theta_{2} X_{t}) dt + \\theta_{3} X_{t}^{\\theta_{4}} dW_{t},\\qquad X_{0}=2\n",
    "$$\n",
    "with $\\theta_{1}=1$, $\\theta_{2}=2$, $\\theta_{3}=0.5$, $\\theta_{4}=0.3$.\n",
    "\n",
    "Use the Euler method and\n",
    "* generate the sample data $X_{t_i}$ with time step $\\Delta t =10^{-4}$,  \n",
    "* estimate drift and diffusion coefficients,\n",
    "* compute confidence intervals for all parameters in a fitted SDE.  \n"
   ]
  },
  {
   "cell_type": "code",
   "execution_count": 26,
   "metadata": {
    "id": "XR-WqbzKl0KE"
   },
   "outputs": [],
   "source": [
    "Nx = 1\n",
    "Nt = 10000\n",
    "\n",
    "T = 1\n",
    "\n",
    "params_CKLS = np.array([1, 2, 0.5, 0.3])\n",
    "\n",
    "x0 = 2\n",
    "init_state = x0 * np.ones(Nx)\n",
    "\n",
    "CKLSp = CKLSprocess(params_CKLS, T, Nx, Nt, init_state)\n",
    "\n",
    "t_data, x_data_CKLS = CKLSp.EulerSolution()"
   ]
  },
  {
   "cell_type": "code",
   "execution_count": 27,
   "metadata": {
    "colab": {
     "base_uri": "https://localhost:8080/",
     "height": 449
    },
    "id": "ntgWc4bfl0KE",
    "outputId": "b4370f66-8637-46dd-8169-ace02e2f93b5"
   },
   "outputs": [
    {
     "data": {
      "image/png": "[encoded data removed]",
      "text/plain": [
       "<Figure size 640x480 with 1 Axes>"
      ]
     },
     "metadata": {},
     "output_type": "display_data"
    }
   ],
   "source": [
    "plt.plot(t_data, x_data_CKLS[:,0], label = 'CKLS process')\n",
    "\n",
    "plt.legend(loc = 'best', fancybox = True, shadow = True)\n",
    "plt.xlabel(\"t\")\n",
    "plt.ylabel(\"x(t)\")\n",
    "plt.grid(True)\n",
    "plt.show()"
   ]
  },
  {
   "cell_type": "code",
   "execution_count": 28,
   "metadata": {
    "colab": {
     "base_uri": "https://localhost:8080/"
    },
    "id": "AlPjxY4Xl0KE",
    "outputId": "9c2afc60-f178-43ee-8fd3-af96c5bdf75b"
   },
   "outputs": [
    {
     "data": {
      "text/plain": [
       "  message: CONVERGENCE: REL_REDUCTION_OF_F_<=_FACTR*EPSMCH\n",
       "  success: True\n",
       "   status: 0\n",
       "      fun: -32700.192219496745\n",
       "        x: [ 1.114e+00  2.153e+00  5.008e-01  3.018e-01]\n",
       "      nit: 18\n",
       "      jac: [-6.807e-01  7.603e-02  3.274e-02  6.548e-03]\n",
       "     nfev: 115\n",
       "     njev: 23\n",
       " hess_inv: <4x4 LbfgsInvHessProduct with dtype=float64>"
      ]
     },
     "execution_count": 28,
     "metadata": {},
     "output_type": "execute_result"
    }
   ],
   "source": [
    "CKLSp.EulerEstimation(t_data, x_data_CKLS)"
   ]
  },
  {
   "cell_type": "code",
   "execution_count": 29,
   "metadata": {
    "colab": {
     "base_uri": "https://localhost:8080/"
    },
    "id": "B8YDUmwXl0KE",
    "outputId": "96e7337a-4f7b-4f96-9856-ccfd13ef8632"
   },
   "outputs": [
    {
     "name": "stdout",
     "output_type": "stream",
     "text": [
      "theta0 = 1.2625653616384256 +- 0.25569583901177956 with 95.0% prob\n",
      "theta1 = 1.9503896652124493 +- 0.04734224859958106 with 95.0% prob\n",
      "theta2 = 0.5005690519871657 +- 0.003016716073563418 with 95.0% prob\n",
      "theta3 = 0.29928034023086575 +- 0.003344747241718138 with 95.0% prob\n"
     ]
    }
   ],
   "source": [
    "#Confidence intervals\n",
    "n = 50\n",
    "result = np.zeros((n, 4))\n",
    "for k in range(0, n):\n",
    "    t_data, x_data_CKLS = CKLSp.EulerSolution()\n",
    "    result[k] = CKLSp.EulerEstimation(t_data, x_data_CKLS).x\n",
    "\n",
    "\n",
    "alpha = 0.05\n",
    "q = t.ppf(1-alpha/2, n - 1)\n",
    "for i in range(0, 4):\n",
    "    m = np.mean(result[:,i])\n",
    "    v = np.std(result[:,i], ddof=1)\n",
    "    print(f\"theta{i} = {m} +- {v * q / np.sqrt(n)} with {100 - alpha * 100}% prob\")"
   ]
  },
  {
   "cell_type": "markdown",
   "metadata": {
    "id": "z350sXmPl0KE"
   },
   "source": [
    "Task 4. Consider the Vasicek model\n",
    "$$\n",
    "dX_{t} = \\theta_{1} (\\theta_{2}- X_{t}) dt + \\theta_{3} dW_{t},\\qquad X_{0}=5\n",
    "$$\n",
    "with $\\theta_{1}=3$, $\\theta_{2}=2$ and $\\theta_{3}=0.5$.\n",
    "\n",
    "Use the Ozaki method and\n",
    "*   generate the sample data $X_{t_i}$, time step $\\Delta t =10^{-2}$,\n",
    "*   estimate drift and diffusion coefficients,\n",
    "*   compute confidence intervals for all parameters in a fitted SDE."
   ]
  },
  {
   "cell_type": "code",
   "execution_count": 30,
   "metadata": {
    "id": "S67Z0D8el0KE"
   },
   "outputs": [],
   "source": [
    "Nx = 1\n",
    "Nt = 100\n",
    "\n",
    "T = 1\n",
    "\n",
    "params_OU = np.array([3, 2, 0.5])\n",
    "\n",
    "x0 = 5\n",
    "init_state = x0 * np.ones(Nx)\n",
    "\n",
    "OUp = OUprocess(params_OU, T, Nx, Nt, init_state)\n",
    "\n",
    "t_data, x_data_OU = OUp.EulerSolution()"
   ]
  },
  {
   "cell_type": "code",
   "execution_count": 31,
   "metadata": {
    "colab": {
     "base_uri": "https://localhost:8080/"
    },
    "id": "Q1twW-N1l0KE",
    "outputId": "d2604a90-a819-4de3-8ebf-629dfb65c7fe"
   },
   "outputs": [
    {
     "data": {
      "text/plain": [
       "  message: CONVERGENCE: REL_REDUCTION_OF_F_<=_FACTR*EPSMCH\n",
       "  success: True\n",
       "   status: 0\n",
       "      fun: -179.66388018223276\n",
       "        x: [ 3.185e+00  1.954e+00  4.031e-01]\n",
       "      nit: 16\n",
       "      jac: [-1.705e-04  1.125e-03  5.295e-03]\n",
       "     nfev: 96\n",
       "     njev: 24\n",
       " hess_inv: <3x3 LbfgsInvHessProduct with dtype=float64>"
      ]
     },
     "execution_count": 31,
     "metadata": {},
     "output_type": "execute_result"
    }
   ],
   "source": [
    "OUp.OzakiEstimation(t_data, x_data_OU)"
   ]
  },
  {
   "cell_type": "code",
   "execution_count": 32,
   "metadata": {
    "colab": {
     "base_uri": "https://localhost:8080/"
    },
    "id": "5_2Txb7Hl0KE",
    "outputId": "d0c6ae4d-3778-4772-da31-7e2f638f934e"
   },
   "outputs": [
    {
     "name": "stdout",
     "output_type": "stream",
     "text": [
      "theta0 = 3.163666567078779 +- 0.20347758065440089 with 95.0% prob\n",
      "theta1 = 1.9685091178938736 +- 0.0887815424436207 with 95.0% prob\n",
      "theta2 = 0.38932747073612534 +- 0.09393507492585448 with 95.0% prob\n"
     ]
    }
   ],
   "source": [
    "#Confidence intervals\n",
    "n = 50\n",
    "result = np.zeros((n, 3))\n",
    "for k in range(0, n):\n",
    "    t_data, x_data_OU = OUp.EulerSolution()\n",
    "    result[k] = OUp.OzakiEstimation(t_data, x_data_OU).x\n",
    "\n",
    "\n",
    "alpha = 0.05\n",
    "q = t.ppf(1-alpha/2, n - 1)\n",
    "for i in range(0, 3):\n",
    "    m = np.mean(result[:,i])\n",
    "    v = np.std(result[:,i], ddof=1)\n",
    "    print(f\"theta{i} = {m} +- {v * q / np.sqrt(n)} with {100 - alpha * 100}% prob\")"
   ]
  },
  {
   "cell_type": "markdown",
   "metadata": {
    "id": "8-I7G75Fl0KE"
   },
   "source": [
    "Task 5. Consider the model\n",
    "$$\n",
    "  dX_{t} = a(t)X_{t} dt + \\theta_{2}X_{t} dW_{t},\\qquad X_{0}=10\n",
    "$$\n",
    "with $a(t) = \\theta_{1}t$, $\\theta_{1}=-2$, $\\theta_{2}=0.2$.\n",
    "\n",
    "Use the Shoji-Ozaki method and:\n",
    "* generate the sample data $X_{t_i}$ time step $\\Delta t =10^{-3}$,  \n",
    "* estimate drift and diffusion coefficients,\n",
    "* compute confidence intervals for all parameters in a fitted SDE."
   ]
  },
  {
   "cell_type": "code",
   "execution_count": 33,
   "metadata": {
    "id": "Ok7FIiVdl0KE"
   },
   "outputs": [],
   "source": [
    "Nx = 1\n",
    "Nt = 1000\n",
    "\n",
    "T = 1\n",
    "\n",
    "params_T5 = np.array([-2, 0.2])\n",
    "\n",
    "x0 = 5\n",
    "init_state = x0 * np.ones(Nx)\n",
    "\n",
    "T5p = Task5process(params_T5, T, Nx, Nt, init_state)\n",
    "\n",
    "t_data, x_data_T5 = T5p.EulerSolution()"
   ]
  },
  {
   "cell_type": "code",
   "execution_count": 34,
   "metadata": {
    "colab": {
     "base_uri": "https://localhost:8080/"
    },
    "id": "pRD3TJKumHBz",
    "outputId": "3b3012d1-8808-4f82-e7df-3a6ca17eea3f"
   },
   "outputs": [
    {
     "data": {
      "text/plain": [
       "  message: CONVERGENCE: REL_REDUCTION_OF_F_<=_FACTR*EPSMCH\n",
       "  success: True\n",
       "   status: 0\n",
       "      fun: -2521.295013993064\n",
       "        x: [-2.104e+00  1.967e-01]\n",
       "      nit: 15\n",
       "      jac: [ 2.979e-02  3.397e-02]\n",
       "     nfev: 144\n",
       "     njev: 48\n",
       " hess_inv: <2x2 LbfgsInvHessProduct with dtype=float64>"
      ]
     },
     "execution_count": 34,
     "metadata": {},
     "output_type": "execute_result"
    }
   ],
   "source": [
    "T5p.ShojiOzakiEstimation(t_data, x_data_T5)"
   ]
  },
  {
   "cell_type": "code",
   "execution_count": 35,
   "metadata": {
    "colab": {
     "base_uri": "https://localhost:8080/",
     "height": 449
    },
    "id": "RImgtCF_l0KF",
    "outputId": "47847ffb-8175-4d6d-bf99-eb2fe2ccc804"
   },
   "outputs": [
    {
     "data": {
      "image/png": "[encoded data removed]",
      "text/plain": [
       "<Figure size 640x480 with 1 Axes>"
      ]
     },
     "metadata": {},
     "output_type": "display_data"
    }
   ],
   "source": [
    "plt.plot(t_data, x_data_T5[:,0], label = 'Task 5 process')\n",
    "\n",
    "plt.legend(loc = 'best', fancybox = True, shadow = True)\n",
    "plt.xlabel(\"t\")\n",
    "plt.ylabel(\"x(t)\")\n",
    "plt.grid(True)\n",
    "plt.show()"
   ]
  },
  {
   "cell_type": "code",
   "execution_count": 36,
   "metadata": {
    "colab": {
     "base_uri": "https://localhost:8080/"
    },
    "id": "InRuiVhzl0KF",
    "outputId": "42039119-146b-4098-e16c-60a3612405d2"
   },
   "outputs": [
    {
     "name": "stdout",
     "output_type": "stream",
     "text": [
      "theta0 = -1.9268326023994566 +- 0.0917545821545623 with 95.0% prob\n",
      "theta1 = 0.17638110993957531 +- 0.02701304914215358 with 95.0% prob\n"
     ]
    }
   ],
   "source": [
    "#Confidence intervals\n",
    "n = 50\n",
    "result = np.zeros((n, 2))\n",
    "for k in range(0, n):\n",
    "    t_data, x_data_T5 = T5p.EulerSolution()\n",
    "    result[k] = T5p.ShojiOzakiEstimation(t_data, x_data_T5).x\n",
    "\n",
    "\n",
    "alpha = 0.05\n",
    "q = t.ppf(1-alpha/2, n - 1)\n",
    "for i in range(0, 2):\n",
    "    m = np.mean(result[:,i])\n",
    "    v = np.std(result[:,i], ddof=1)\n",
    "    print(f\"theta{i} = {m} +- {v * q / np.sqrt(n)} with {100 - alpha * 100}% prob\")"
   ]
  },
  {
   "cell_type": "markdown",
   "metadata": {
    "id": "zhSjEaUGl0KF"
   },
   "source": [
    "Task 6. Consider the Hull-White (extended Vasicek) model\n",
    "$$\n",
    "  dX_{t} = a(t)(b(t)-X_{t}) dt + \\sigma(t) dW_{t},\\qquad X_{0}=2\n",
    "$$\n",
    "with $a(t) = \\theta_{1}t$, $b(t)=\\theta_{2}\\sqrt{t}$, the volatility depends on time $\\sigma(t)=\\theta_{3}t$.\n",
    "\n",
    "Generate sample data of $X_t$ with time step $\\Delta t =10^{-3}$ and $\\theta_{1}=3$, $\\theta_{2}=1$ and $\\theta_{3}=0.3$, then\n",
    "use the Kessler method and:\n",
    "*   estimate drift and diffusion coefficients,\n",
    "*   compute confidence intervals for all parameters in a fitted SDE."
   ]
  },
  {
   "cell_type": "code",
   "execution_count": 37,
   "metadata": {
    "id": "D_AM54Stl0KF"
   },
   "outputs": [],
   "source": [
    "Nx = 1\n",
    "Nt = 100\n",
    "\n",
    "T = 1\n",
    "\n",
    "params_HW = np.array([3, 1, 0.3])\n",
    "\n",
    "x0 = 2\n",
    "init_state = x0 * np.ones(Nx)\n",
    "\n",
    "HWp = HullWhiteprocess(params_HW, T, Nx, Nt, init_state)\n",
    "\n",
    "t_data, x_data_HW = HWp.EulerSolution()"
   ]
  },
  {
   "cell_type": "code",
   "execution_count": 38,
   "metadata": {
    "colab": {
     "base_uri": "https://localhost:8080/",
     "height": 449
    },
    "id": "VrNcrc22l0KF",
    "outputId": "698e4729-612f-4124-a1d5-c0b075a4219c"
   },
   "outputs": [
    {
     "data": {
      "image/png": "[encoded data removed]",
      "text/plain": [
       "<Figure size 640x480 with 1 Axes>"
      ]
     },
     "metadata": {},
     "output_type": "display_data"
    }
   ],
   "source": [
    "plt.plot(t_data, x_data_HW[:,0], label = 'HW process')\n",
    "\n",
    "plt.legend(loc = 'best', fancybox = True, shadow = True)\n",
    "plt.xlabel(\"t\")\n",
    "plt.ylabel(\"x(t)\")\n",
    "plt.grid(True)\n",
    "plt.show()"
   ]
  },
  {
   "cell_type": "code",
   "execution_count": 39,
   "metadata": {
    "colab": {
     "base_uri": "https://localhost:8080/"
    },
    "id": "GLTStP4lluvK",
    "outputId": "ad0c3132-202c-441b-c9ef-23f840d2f824"
   },
   "outputs": [
    {
     "data": {
      "text/plain": [
       "  message: CONVERGENCE: REL_REDUCTION_OF_F_<=_FACTR*EPSMCH\n",
       "  success: True\n",
       "   status: 0\n",
       "      fun: -299.83971460625975\n",
       "        x: [ 3.548e+00  1.303e+00  3.211e-01]\n",
       "      nit: 16\n",
       "      jac: [-1.014e-01  1.344e-01 -1.178e-01]\n",
       "     nfev: 132\n",
       "     njev: 33\n",
       " hess_inv: <3x3 LbfgsInvHessProduct with dtype=float64>"
      ]
     },
     "execution_count": 39,
     "metadata": {},
     "output_type": "execute_result"
    }
   ],
   "source": [
    "HWp.KesslerEstimation(t_data, x_data_HW)"
   ]
  },
  {
   "cell_type": "markdown",
   "metadata": {
    "id": "z7C4jqsMMH7b"
   },
   "source": [
    "Task. Take a process from previous tasks and approximation method, find the solution, compute confidence intervals, and compare results with baseline.\n",
    "\n",
    "Plot the graph and table.\n",
    "\n",
    "Задания по вариантам\n",
    "1. Байков Илья Павлович OU + Kessler\n",
    "1. Гонгапшев Астемир Султанович CKLS + Shoji-Ozaki\n",
    "1. Кудинкина Екатерина Андреевна CKLS + Kessler\n",
    "1. Кулига Андрей Владимирович Vasicek + Euler\n",
    "1. Мартыненко Александр Станиславович Vasicek + Shoji-Ozaki\n",
    "1. Мироманов Даниил Борисович Vasicek + Kessler\n",
    "1. Паршаков Никита Сергеевич extended Vasicek + Euler\n",
    "1. Петренко Влада Витальевна extended Vasicek + Ozaki\n",
    "1. Тумачев Серафим Дмитриевич extended Vasicek + Shoji-Ozaki\n",
    "1. Хубиев Касымхан Юсуфович model 5 + Euler\n",
    "1. Ширяева Софья Игоревна model 5 + Ozaki\n",
    "1. Якунин Сергей Александрович model 5 + Kessler\n",
    "1. Трофимов Яков Георгиевич CKLS + Ozaki\n"
   ]
  },
  {
   "cell_type": "code",
   "execution_count": null,
   "metadata": {},
   "outputs": [
    {
     "name": "stdout",
     "output_type": "stream",
     "text": [
      "True Parameters: [0.5, 0.3]\n",
      "Estimated Parameters: [0.52683278 0.32880062]\n"
     ]
    },
    {
     "data": {
      "image/png": "[encoded data removed]",
      "text/plain": [
       "<Figure size 1000x600 with 1 Axes>"
      ]
     },
     "metadata": {},
     "output_type": "display_data"
    }
   ],
   "source": [
    "import numpy as np\n",
    "import pandas as pd\n",
    "from scipy.optimize import minimize\n",
    "import matplotlib.pyplot as plt\n",
    "\n",
    "class Model5ProcessOzaki:\n",
    "    def __init__(self, params, T, Nx, Nt, init_state=None):\n",
    "        self.params = params\n",
    "        self.T = T\n",
    "        self.Nx = Nx\n",
    "        self.Nt = Nt\n",
    "        self.init_state = init_state if init_state is not None else np.ones(Nx)\n",
    "\n",
    "    def drift(self, x):\n",
    "        theta1 = self.params[0]\n",
    "        return theta1 * x\n",
    "\n",
    "    def diffusion(self, x):\n",
    "        theta2 = self.params[1]\n",
    "        return theta2 * x\n",
    "\n",
    "    def generate_trajectory(self):\n",
    "        X = np.zeros((self.Nt, self.Nx))\n",
    "        X[0, :] = self.init_state\n",
    "        dt = self.T / self.Nt\n",
    "        for i in range(1, self.Nt):\n",
    "            x_current = X[i - 1, :]\n",
    "            b_xt = self.drift(x_current)\n",
    "            bx_xt = self.params[0]\n",
    "            K_x = (1 / dt) * np.log(1 + (b_xt / x_current) * ((np.exp(bx_xt * dt) - 1) / bx_xt))\n",
    "            mean = x_current * np.exp(K_x * dt) + (b_xt / bx_xt) * (np.exp(bx_xt * dt) - 1)\n",
    "            variance = (self.diffusion(x_current) ** 2) * (np.exp(2 * K_x * dt) - 1) / (2 * K_x)\n",
    "            X[i, :] = mean + np.sqrt(variance) * np.random.normal(size=self.Nx)\n",
    "        return np.linspace(0, self.T, self.Nt), X\n",
    "\n",
    "    def ozaki_density(self, x_next, x_current, dt):\n",
    "        b_xt = self.drift(x_current)\n",
    "        bx_xt = self.params[0]\n",
    "        K_x = (1 / dt) * np.log(1 + (b_xt / x_current) * ((np.exp(bx_xt * dt) - 1) / bx_xt))\n",
    "        mean = x_current * np.exp(K_x * dt) + (b_xt / bx_xt) * (np.exp(bx_xt * dt) - 1)\n",
    "        variance = (self.diffusion(x_current) ** 2) * (np.exp(2 * K_x * dt) - 1) / (2 * K_x)\n",
    "        return -0.5 * np.log(2 * np.pi * variance) - (x_next - mean) ** 2 / (2 * variance)\n",
    "\n",
    "    def mlog_likelihood(self, params, t_data, x_data):\n",
    "        self.params = params\n",
    "        dt = self.T / self.Nt\n",
    "        log_likelihood = 0\n",
    "        for i in range(1, len(t_data)):\n",
    "            log_likelihood += self.ozaki_density(x_data[i], x_data[i - 1], dt)\n",
    "        return -log_likelihood\n",
    "\n",
    "    def ozaki_estimation(self, t_data, x_data):\n",
    "        x0 = np.ones(len(self.params))\n",
    "        result = minimize(\n",
    "            self.mlog_likelihood,\n",
    "            x0=x0,\n",
    "            args=(t_data, x_data),\n",
    "            method='L-BFGS-B',\n",
    "            options={'ftol': 1e-8, 'eps': 1e-8}\n",
    "        )\n",
    "        return result.x\n",
    "\n",
    "def run_ozaki_estimation():\n",
    "    true_params = [0.5, 0.3]\n",
    "    T = 1.0\n",
    "    Nx = 1\n",
    "    Nt = 100\n",
    "    process = Model5ProcessOzaki(params=true_params, T=T, Nx=Nx, Nt=Nt)\n",
    "    \n",
    "    t_data, x_data = process.generate_trajectory()\n",
    "    estimated_params = process.ozaki_estimation(t_data, x_data[:, 0])\n",
    "\n",
    "    # Print initial and estimated parameters\n",
    "    print(\"True Parameters:\", true_params)\n",
    "    print(\"Estimated Parameters:\", estimated_params)\n",
    "\n",
    "    # Plot the trajectory and 95% confidence interval\n",
    "    plt.figure(figsize=(10, 6))\n",
    "    plt.plot(t_data, x_data.mean(axis=1), label=\"Mean Trajectory\")\n",
    "    plt.fill_between(\n",
    "        t_data,\n",
    "        x_data.mean(axis=1) - 1.96 * x_data.std(axis=1),\n",
    "        x_data.mean(axis=1) + 1.96 * x_data.std(axis=1),\n",
    "    )\n",
    "    plt.xlabel(\"Time\")\n",
    "    plt.ylabel(\"X\")\n",
    "    plt.title(\"Trajectory with Ozaki Method and Confidence Interval\")\n",
    "    plt.legend()\n",
    "    plt.show()\n",
    "\n",
    "run_ozaki_estimation()"
   ]
  },
  {
   "cell_type": "code",
   "execution_count": null,
   "metadata": {},
   "outputs": [],
   "source": []
  }
 ],
 "metadata": {
  "colab": {
   "provenance": []
  },
  "kernelspec": {
   "display_name": "Python 3",
   "language": "python",
   "name": "python3"
  },
  "language_info": {
   "codemirror_mode": {
    "name": "ipython",
    "version": 3
   },
   "file_extension": ".py",
   "mimetype": "text/x-python",
   "name": "python",
   "nbconvert_exporter": "python",
   "pygments_lexer": "ipython3",
   "version": "3.12.0"
  }
 },
 "nbformat": 4,
 "nbformat_minor": 0
}
